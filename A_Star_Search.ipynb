{
 "cells": [
  {
   "cell_type": "markdown",
   "id": "b1fb728e",
   "metadata": {},
   "source": [
    "# Assignment 1 - A Star Search - Python Code"
   ]
  },
  {
   "cell_type": "markdown",
   "id": "7af95d52",
   "metadata": {},
   "source": [
    "The following code is for you to complete using the instructions contained in the assignment document. Please follow the instructions closely. Your first step should be to edit the map.py file to create your 40 by 40 grid map, fixing the code bugs in the below code, before running your A* Search on your Map."
   ]
  },
  {
   "cell_type": "code",
   "execution_count": null,
   "id": "sustained-thanks",
   "metadata": {},
   "outputs": [],
   "source": [
    "import numpy as np\n",
    "from node import Node\n",
    "from queue import PriorityQueue # https://docs.python.org/3/library/queue.html\n",
    "from maps import DiscreteMap"
   ]
  },
  {
   "cell_type": "markdown",
   "id": "ordinary-interview",
   "metadata": {},
   "source": [
    "# Algorithms"
   ]
  },
  {
   "cell_type": "code",
   "execution_count": null,
   "id": "honest-thought",
   "metadata": {},
   "outputs": [],
   "source": [
    "# You may uncomment/comment this code to experiment with a different heuristic.\n",
    "\n",
    "def distance(node1, node2):\n",
    "    #euclidian_distance\n",
    "    return np.sqrt((node1.x - node2.x)**2+(node1.y - node2.y)**2)\n",
    "\n",
    "#def distance(node1, node2):\n",
    "    #Manhattan_distance\n",
    "    #return np.abs(node1.x - node2.x) + np.abs(node1.y - node2.y)\n",
    "\n",
    "def heuristic(node1, node2):\n",
    "    return distance(node1, node2)\n"
   ]
  },
  {
   "cell_type": "code",
   "execution_count": null,
   "id": "orange-addition",
   "metadata": {},
   "outputs": [],
   "source": [
    "def A_star(game_map, start_node, goal_node):\n",
    "    \n",
    "    open_queue = # STEP 1. Create a new priority queue.\n",
    "    path = [start_node]\n",
    "    f = 0\n",
    "    open_queue.put((f, (start_node, path)))\n",
    "    \n",
    "    discovered_nodes = set()\n",
    "    \n",
    "    while not open_queue.empty():\n",
    "        cost, (current_node, path) = open_queue.get()\n",
    "        \n",
    "        if not current_node in discovered_nodes:\n",
    "            discovered_nodes.add(current_node)\n",
    "            \n",
    "            if current_node == goal_node:\n",
    "                cost_to_reach_goal_node = 0\n",
    "                for i in range(len(path) - 1):\n",
    "                    cost_to_reach_goal_node += distance(path[i], path[i+1])\n",
    "                return #STEP 2. return three objects/values here. \n",
    "                        #HINT: How do we use this function in our searches below?\n",
    "            \n",
    "            # Generate children and add to path\n",
    "            for new_node in game_map.get_adjacent_nodes(current_node):\n",
    "                new_path = path.copy()\n",
    "                new_path.append(new_node)\n",
    "                \n",
    "                # STEP 3. Have the values f,g, and h print once during execution.\n",
    "                # Cost to reach that node\n",
    "                g = 0\n",
    "                for i in range(len(path) - 1):\n",
    "                    g += distance(path[i], path[i+1])\n",
    "                    \n",
    "                h = heuristic(new_node, goal_node)\n",
    "                \n",
    "                f = g + h\n",
    "                \n",
    "                open_queue.put((f, (new_node, new_path)))"
   ]
  },
  {
   "cell_type": "markdown",
   "id": "headed-module",
   "metadata": {},
   "source": [
    "# Discrete Grid Search"
   ]
  },
  {
   "cell_type": "code",
   "execution_count": null,
   "id": "1450ac9f",
   "metadata": {},
   "outputs": [],
   "source": [
    "map_height = # Your height here.\n",
    "map_width = # Your width here."
   ]
  },
  {
   "cell_type": "code",
   "execution_count": null,
   "id": "spatial-visitor",
   "metadata": {},
   "outputs": [],
   "source": [
    "game_map = DiscreteMap(map_height, map_width)"
   ]
  },
  {
   "cell_type": "markdown",
   "id": "41898fcb",
   "metadata": {},
   "source": [
    "## Search 1"
   ]
  },
  {
   "cell_type": "code",
   "execution_count": null,
   "id": "demographic-torture",
   "metadata": {},
   "outputs": [],
   "source": [
    "# Note: This code will error if the start or end nodes are set to wall locations.\n",
    "\n",
    "# STEP 4. - Replace the values of X and Y so that your agent will begin in the lower left and end in the upper right.\n",
    "path, discovered_nodes, cost = A_star(game_map, Node(X, Y), Node(x, y))\n",
    "\n",
    "# STEP 5. - Complete the below print statements to display the number of nodes explored and the cost of the path.\n",
    "print(\"Your print statement here\")\n",
    "print(\"Your print statement here\")\n",
    "\n",
    "game_map.plot_path(path)"
   ]
  },
  {
   "cell_type": "markdown",
   "id": "2eb126bd",
   "metadata": {},
   "source": [
    "## Search 2"
   ]
  },
  {
   "cell_type": "code",
   "execution_count": null,
   "id": "external-secret",
   "metadata": {},
   "outputs": [],
   "source": [
    "# STEP 6. Replace values X and Y so that the search begins in the middle left hand side of the map \n",
    "# and ends in the middle of the right.\n",
    "# STEP 7. There are typos in the below code. Fix these so the code will run.\n",
    "\n",
    "path, discovered_node, cost = A_Star(game_map, node(X, Y), Node(x, y))\n",
    "\n",
    "# STEP 8. - Complete the below print statements to display the number of nodes explored and the cost of the path.\n",
    "print(\"Your print statement here\")\n",
    "print(\"Your print statement here\")\n",
    "                                     \n",
    "    game_map.plot_paths(path)"
   ]
  }
 ],
 "metadata": {
  "kernelspec": {
   "display_name": "Python 3 (ipykernel)",
   "language": "python",
   "name": "python3"
  },
  "language_info": {
   "codemirror_mode": {
    "name": "ipython",
    "version": 3
   },
   "file_extension": ".py",
   "mimetype": "text/x-python",
   "name": "python",
   "nbconvert_exporter": "python",
   "pygments_lexer": "ipython3",
   "version": "3.11.3"
  }
 },
 "nbformat": 4,
 "nbformat_minor": 5
}
